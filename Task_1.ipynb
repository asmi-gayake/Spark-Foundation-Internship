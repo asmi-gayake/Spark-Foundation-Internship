{
  "nbformat": 4,
  "nbformat_minor": 0,
  "metadata": {
    "colab": {
      "provenance": []
    },
    "kernelspec": {
      "name": "python3",
      "display_name": "Python 3"
    },
    "language_info": {
      "name": "python"
    }
  },
  "cells": [
    {
      "cell_type": "markdown",
      "source": [
        "![spark.jpg](data:image/jpeg;base64,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)"
      ],
      "metadata": {
        "id": "R9BJR2a7_Xqu"
      }
    },
    {
      "cell_type": "markdown",
      "source": [
        "## **Author : Asmita Gayake**\n",
        " The Spark Foundation: Data Science and Business Analytics Internship"
      ],
      "metadata": {
        "id": "TpHK9Sqc_tiq"
      }
    },
    {
      "cell_type": "markdown",
      "source": [
        "###**TASK 1: Prediction using Supervised ML** \n",
        "\n",
        " Problem Statement : Predict the percentage of an student based on the no. of study hours.\n",
        "\n",
        "   What will be predicted score if a student studies for 9.25 hrs/ day?"
      ],
      "metadata": {
        "id": "gxt8qQw8ApUq"
      }
    },
    {
      "cell_type": "markdown",
      "source": [
        "**Step 1:Importing Libraries**"
      ],
      "metadata": {
        "id": "ySD3iSaTEXvc"
      }
    },
    {
      "cell_type": "code",
      "execution_count": 1,
      "metadata": {
        "id": "lih2g35vLJmL"
      },
      "outputs": [],
      "source": [
        "import pandas as pd\n",
        "import numpy as np  \n",
        "import matplotlib.pyplot as plt  \n",
        "%matplotlib inline\n",
        "import seaborn as sns\n"
      ]
    },
    {
      "cell_type": "markdown",
      "source": [
        " **Step 2:Loading Dataset**"
      ],
      "metadata": {
        "id": "-OXQKgZfEfa7"
      }
    },
    {
      "cell_type": "code",
      "source": [
        "\n",
        "\n",
        "df = pd.read_csv('http://bit.ly/w-data')\n",
        "\n"
      ],
      "metadata": {
        "id": "hascoAf2LNf1"
      },
      "execution_count": 2,
      "outputs": []
    },
    {
      "cell_type": "code",
      "source": [
        "df"
      ],
      "metadata": {
        "colab": {
          "base_uri": "https://localhost:8080/",
          "height": 833
        },
        "id": "ZIyShv6mn5Yj",
        "outputId": "69f5561c-4761-40cb-ef1b-4da276b1b958"
      },
      "execution_count": 3,
      "outputs": [
        {
          "output_type": "execute_result",
          "data": {
            "text/plain": [
              "    Hours  Scores\n",
              "0     2.5      21\n",
              "1     5.1      47\n",
              "2     3.2      27\n",
              "3     8.5      75\n",
              "4     3.5      30\n",
              "5     1.5      20\n",
              "6     9.2      88\n",
              "7     5.5      60\n",
              "8     8.3      81\n",
              "9     2.7      25\n",
              "10    7.7      85\n",
              "11    5.9      62\n",
              "12    4.5      41\n",
              "13    3.3      42\n",
              "14    1.1      17\n",
              "15    8.9      95\n",
              "16    2.5      30\n",
              "17    1.9      24\n",
              "18    6.1      67\n",
              "19    7.4      69\n",
              "20    2.7      30\n",
              "21    4.8      54\n",
              "22    3.8      35\n",
              "23    6.9      76\n",
              "24    7.8      86"
            ],
            "text/html": [
              "\n",
              "  <div id=\"df-70ce303d-e48d-4f8b-a921-d11383b9d541\">\n",
              "    <div class=\"colab-df-container\">\n",
              "      <div>\n",
              "<style scoped>\n",
              "    .dataframe tbody tr th:only-of-type {\n",
              "        vertical-align: middle;\n",
              "    }\n",
              "\n",
              "    .dataframe tbody tr th {\n",
              "        vertical-align: top;\n",
              "    }\n",
              "\n",
              "    .dataframe thead th {\n",
              "        text-align: right;\n",
              "    }\n",
              "</style>\n",
              "<table border=\"1\" class=\"dataframe\">\n",
              "  <thead>\n",
              "    <tr style=\"text-align: right;\">\n",
              "      <th></th>\n",
              "      <th>Hours</th>\n",
              "      <th>Scores</th>\n",
              "    </tr>\n",
              "  </thead>\n",
              "  <tbody>\n",
              "    <tr>\n",
              "      <th>0</th>\n",
              "      <td>2.5</td>\n",
              "      <td>21</td>\n",
              "    </tr>\n",
              "    <tr>\n",
              "      <th>1</th>\n",
              "      <td>5.1</td>\n",
              "      <td>47</td>\n",
              "    </tr>\n",
              "    <tr>\n",
              "      <th>2</th>\n",
              "      <td>3.2</td>\n",
              "      <td>27</td>\n",
              "    </tr>\n",
              "    <tr>\n",
              "      <th>3</th>\n",
              "      <td>8.5</td>\n",
              "      <td>75</td>\n",
              "    </tr>\n",
              "    <tr>\n",
              "      <th>4</th>\n",
              "      <td>3.5</td>\n",
              "      <td>30</td>\n",
              "    </tr>\n",
              "    <tr>\n",
              "      <th>5</th>\n",
              "      <td>1.5</td>\n",
              "      <td>20</td>\n",
              "    </tr>\n",
              "    <tr>\n",
              "      <th>6</th>\n",
              "      <td>9.2</td>\n",
              "      <td>88</td>\n",
              "    </tr>\n",
              "    <tr>\n",
              "      <th>7</th>\n",
              "      <td>5.5</td>\n",
              "      <td>60</td>\n",
              "    </tr>\n",
              "    <tr>\n",
              "      <th>8</th>\n",
              "      <td>8.3</td>\n",
              "      <td>81</td>\n",
              "    </tr>\n",
              "    <tr>\n",
              "      <th>9</th>\n",
              "      <td>2.7</td>\n",
              "      <td>25</td>\n",
              "    </tr>\n",
              "    <tr>\n",
              "      <th>10</th>\n",
              "      <td>7.7</td>\n",
              "      <td>85</td>\n",
              "    </tr>\n",
              "    <tr>\n",
              "      <th>11</th>\n",
              "      <td>5.9</td>\n",
              "      <td>62</td>\n",
              "    </tr>\n",
              "    <tr>\n",
              "      <th>12</th>\n",
              "      <td>4.5</td>\n",
              "      <td>41</td>\n",
              "    </tr>\n",
              "    <tr>\n",
              "      <th>13</th>\n",
              "      <td>3.3</td>\n",
              "      <td>42</td>\n",
              "    </tr>\n",
              "    <tr>\n",
              "      <th>14</th>\n",
              "      <td>1.1</td>\n",
              "      <td>17</td>\n",
              "    </tr>\n",
              "    <tr>\n",
              "      <th>15</th>\n",
              "      <td>8.9</td>\n",
              "      <td>95</td>\n",
              "    </tr>\n",
              "    <tr>\n",
              "      <th>16</th>\n",
              "      <td>2.5</td>\n",
              "      <td>30</td>\n",
              "    </tr>\n",
              "    <tr>\n",
              "      <th>17</th>\n",
              "      <td>1.9</td>\n",
              "      <td>24</td>\n",
              "    </tr>\n",
              "    <tr>\n",
              "      <th>18</th>\n",
              "      <td>6.1</td>\n",
              "      <td>67</td>\n",
              "    </tr>\n",
              "    <tr>\n",
              "      <th>19</th>\n",
              "      <td>7.4</td>\n",
              "      <td>69</td>\n",
              "    </tr>\n",
              "    <tr>\n",
              "      <th>20</th>\n",
              "      <td>2.7</td>\n",
              "      <td>30</td>\n",
              "    </tr>\n",
              "    <tr>\n",
              "      <th>21</th>\n",
              "      <td>4.8</td>\n",
              "      <td>54</td>\n",
              "    </tr>\n",
              "    <tr>\n",
              "      <th>22</th>\n",
              "      <td>3.8</td>\n",
              "      <td>35</td>\n",
              "    </tr>\n",
              "    <tr>\n",
              "      <th>23</th>\n",
              "      <td>6.9</td>\n",
              "      <td>76</td>\n",
              "    </tr>\n",
              "    <tr>\n",
              "      <th>24</th>\n",
              "      <td>7.8</td>\n",
              "      <td>86</td>\n",
              "    </tr>\n",
              "  </tbody>\n",
              "</table>\n",
              "</div>\n",
              "      <button class=\"colab-df-convert\" onclick=\"convertToInteractive('df-70ce303d-e48d-4f8b-a921-d11383b9d541')\"\n",
              "              title=\"Convert this dataframe to an interactive table.\"\n",
              "              style=\"display:none;\">\n",
              "        \n",
              "  <svg xmlns=\"http://www.w3.org/2000/svg\" height=\"24px\"viewBox=\"0 0 24 24\"\n",
              "       width=\"24px\">\n",
              "    <path d=\"M0 0h24v24H0V0z\" fill=\"none\"/>\n",
              "    <path d=\"M18.56 5.44l.94 2.06.94-2.06 2.06-.94-2.06-.94-.94-2.06-.94 2.06-2.06.94zm-11 1L8.5 8.5l.94-2.06 2.06-.94-2.06-.94L8.5 2.5l-.94 2.06-2.06.94zm10 10l.94 2.06.94-2.06 2.06-.94-2.06-.94-.94-2.06-.94 2.06-2.06.94z\"/><path d=\"M17.41 7.96l-1.37-1.37c-.4-.4-.92-.59-1.43-.59-.52 0-1.04.2-1.43.59L10.3 9.45l-7.72 7.72c-.78.78-.78 2.05 0 2.83L4 21.41c.39.39.9.59 1.41.59.51 0 1.02-.2 1.41-.59l7.78-7.78 2.81-2.81c.8-.78.8-2.07 0-2.86zM5.41 20L4 18.59l7.72-7.72 1.47 1.35L5.41 20z\"/>\n",
              "  </svg>\n",
              "      </button>\n",
              "      \n",
              "  <style>\n",
              "    .colab-df-container {\n",
              "      display:flex;\n",
              "      flex-wrap:wrap;\n",
              "      gap: 12px;\n",
              "    }\n",
              "\n",
              "    .colab-df-convert {\n",
              "      background-color: #E8F0FE;\n",
              "      border: none;\n",
              "      border-radius: 50%;\n",
              "      cursor: pointer;\n",
              "      display: none;\n",
              "      fill: #1967D2;\n",
              "      height: 32px;\n",
              "      padding: 0 0 0 0;\n",
              "      width: 32px;\n",
              "    }\n",
              "\n",
              "    .colab-df-convert:hover {\n",
              "      background-color: #E2EBFA;\n",
              "      box-shadow: 0px 1px 2px rgba(60, 64, 67, 0.3), 0px 1px 3px 1px rgba(60, 64, 67, 0.15);\n",
              "      fill: #174EA6;\n",
              "    }\n",
              "\n",
              "    [theme=dark] .colab-df-convert {\n",
              "      background-color: #3B4455;\n",
              "      fill: #D2E3FC;\n",
              "    }\n",
              "\n",
              "    [theme=dark] .colab-df-convert:hover {\n",
              "      background-color: #434B5C;\n",
              "      box-shadow: 0px 1px 3px 1px rgba(0, 0, 0, 0.15);\n",
              "      filter: drop-shadow(0px 1px 2px rgba(0, 0, 0, 0.3));\n",
              "      fill: #FFFFFF;\n",
              "    }\n",
              "  </style>\n",
              "\n",
              "      <script>\n",
              "        const buttonEl =\n",
              "          document.querySelector('#df-70ce303d-e48d-4f8b-a921-d11383b9d541 button.colab-df-convert');\n",
              "        buttonEl.style.display =\n",
              "          google.colab.kernel.accessAllowed ? 'block' : 'none';\n",
              "\n",
              "        async function convertToInteractive(key) {\n",
              "          const element = document.querySelector('#df-70ce303d-e48d-4f8b-a921-d11383b9d541');\n",
              "          const dataTable =\n",
              "            await google.colab.kernel.invokeFunction('convertToInteractive',\n",
              "                                                     [key], {});\n",
              "          if (!dataTable) return;\n",
              "\n",
              "          const docLinkHtml = 'Like what you see? Visit the ' +\n",
              "            '<a target=\"_blank\" href=https://colab.research.google.com/notebooks/data_table.ipynb>data table notebook</a>'\n",
              "            + ' to learn more about interactive tables.';\n",
              "          element.innerHTML = '';\n",
              "          dataTable['output_type'] = 'display_data';\n",
              "          await google.colab.output.renderOutput(dataTable, element);\n",
              "          const docLink = document.createElement('div');\n",
              "          docLink.innerHTML = docLinkHtml;\n",
              "          element.appendChild(docLink);\n",
              "        }\n",
              "      </script>\n",
              "    </div>\n",
              "  </div>\n",
              "  "
            ]
          },
          "metadata": {},
          "execution_count": 3
        }
      ]
    },
    {
      "cell_type": "markdown",
      "source": [
        "**Step 3:Analyse Data**"
      ],
      "metadata": {
        "id": "6C5akE2jLkqd"
      }
    },
    {
      "cell_type": "code",
      "source": [
        "df.head(5)"
      ],
      "metadata": {
        "colab": {
          "base_uri": "https://localhost:8080/",
          "height": 206
        },
        "id": "kFtAQHsALOL4",
        "outputId": "0ff948d1-515e-499c-bb50-b18d18a96566"
      },
      "execution_count": 4,
      "outputs": [
        {
          "output_type": "execute_result",
          "data": {
            "text/plain": [
              "   Hours  Scores\n",
              "0    2.5      21\n",
              "1    5.1      47\n",
              "2    3.2      27\n",
              "3    8.5      75\n",
              "4    3.5      30"
            ],
            "text/html": [
              "\n",
              "  <div id=\"df-fb7c604d-625a-4e94-82ab-d545ab56d6c2\">\n",
              "    <div class=\"colab-df-container\">\n",
              "      <div>\n",
              "<style scoped>\n",
              "    .dataframe tbody tr th:only-of-type {\n",
              "        vertical-align: middle;\n",
              "    }\n",
              "\n",
              "    .dataframe tbody tr th {\n",
              "        vertical-align: top;\n",
              "    }\n",
              "\n",
              "    .dataframe thead th {\n",
              "        text-align: right;\n",
              "    }\n",
              "</style>\n",
              "<table border=\"1\" class=\"dataframe\">\n",
              "  <thead>\n",
              "    <tr style=\"text-align: right;\">\n",
              "      <th></th>\n",
              "      <th>Hours</th>\n",
              "      <th>Scores</th>\n",
              "    </tr>\n",
              "  </thead>\n",
              "  <tbody>\n",
              "    <tr>\n",
              "      <th>0</th>\n",
              "      <td>2.5</td>\n",
              "      <td>21</td>\n",
              "    </tr>\n",
              "    <tr>\n",
              "      <th>1</th>\n",
              "      <td>5.1</td>\n",
              "      <td>47</td>\n",
              "    </tr>\n",
              "    <tr>\n",
              "      <th>2</th>\n",
              "      <td>3.2</td>\n",
              "      <td>27</td>\n",
              "    </tr>\n",
              "    <tr>\n",
              "      <th>3</th>\n",
              "      <td>8.5</td>\n",
              "      <td>75</td>\n",
              "    </tr>\n",
              "    <tr>\n",
              "      <th>4</th>\n",
              "      <td>3.5</td>\n",
              "      <td>30</td>\n",
              "    </tr>\n",
              "  </tbody>\n",
              "</table>\n",
              "</div>\n",
              "      <button class=\"colab-df-convert\" onclick=\"convertToInteractive('df-fb7c604d-625a-4e94-82ab-d545ab56d6c2')\"\n",
              "              title=\"Convert this dataframe to an interactive table.\"\n",
              "              style=\"display:none;\">\n",
              "        \n",
              "  <svg xmlns=\"http://www.w3.org/2000/svg\" height=\"24px\"viewBox=\"0 0 24 24\"\n",
              "       width=\"24px\">\n",
              "    <path d=\"M0 0h24v24H0V0z\" fill=\"none\"/>\n",
              "    <path d=\"M18.56 5.44l.94 2.06.94-2.06 2.06-.94-2.06-.94-.94-2.06-.94 2.06-2.06.94zm-11 1L8.5 8.5l.94-2.06 2.06-.94-2.06-.94L8.5 2.5l-.94 2.06-2.06.94zm10 10l.94 2.06.94-2.06 2.06-.94-2.06-.94-.94-2.06-.94 2.06-2.06.94z\"/><path d=\"M17.41 7.96l-1.37-1.37c-.4-.4-.92-.59-1.43-.59-.52 0-1.04.2-1.43.59L10.3 9.45l-7.72 7.72c-.78.78-.78 2.05 0 2.83L4 21.41c.39.39.9.59 1.41.59.51 0 1.02-.2 1.41-.59l7.78-7.78 2.81-2.81c.8-.78.8-2.07 0-2.86zM5.41 20L4 18.59l7.72-7.72 1.47 1.35L5.41 20z\"/>\n",
              "  </svg>\n",
              "      </button>\n",
              "      \n",
              "  <style>\n",
              "    .colab-df-container {\n",
              "      display:flex;\n",
              "      flex-wrap:wrap;\n",
              "      gap: 12px;\n",
              "    }\n",
              "\n",
              "    .colab-df-convert {\n",
              "      background-color: #E8F0FE;\n",
              "      border: none;\n",
              "      border-radius: 50%;\n",
              "      cursor: pointer;\n",
              "      display: none;\n",
              "      fill: #1967D2;\n",
              "      height: 32px;\n",
              "      padding: 0 0 0 0;\n",
              "      width: 32px;\n",
              "    }\n",
              "\n",
              "    .colab-df-convert:hover {\n",
              "      background-color: #E2EBFA;\n",
              "      box-shadow: 0px 1px 2px rgba(60, 64, 67, 0.3), 0px 1px 3px 1px rgba(60, 64, 67, 0.15);\n",
              "      fill: #174EA6;\n",
              "    }\n",
              "\n",
              "    [theme=dark] .colab-df-convert {\n",
              "      background-color: #3B4455;\n",
              "      fill: #D2E3FC;\n",
              "    }\n",
              "\n",
              "    [theme=dark] .colab-df-convert:hover {\n",
              "      background-color: #434B5C;\n",
              "      box-shadow: 0px 1px 3px 1px rgba(0, 0, 0, 0.15);\n",
              "      filter: drop-shadow(0px 1px 2px rgba(0, 0, 0, 0.3));\n",
              "      fill: #FFFFFF;\n",
              "    }\n",
              "  </style>\n",
              "\n",
              "      <script>\n",
              "        const buttonEl =\n",
              "          document.querySelector('#df-fb7c604d-625a-4e94-82ab-d545ab56d6c2 button.colab-df-convert');\n",
              "        buttonEl.style.display =\n",
              "          google.colab.kernel.accessAllowed ? 'block' : 'none';\n",
              "\n",
              "        async function convertToInteractive(key) {\n",
              "          const element = document.querySelector('#df-fb7c604d-625a-4e94-82ab-d545ab56d6c2');\n",
              "          const dataTable =\n",
              "            await google.colab.kernel.invokeFunction('convertToInteractive',\n",
              "                                                     [key], {});\n",
              "          if (!dataTable) return;\n",
              "\n",
              "          const docLinkHtml = 'Like what you see? Visit the ' +\n",
              "            '<a target=\"_blank\" href=https://colab.research.google.com/notebooks/data_table.ipynb>data table notebook</a>'\n",
              "            + ' to learn more about interactive tables.';\n",
              "          element.innerHTML = '';\n",
              "          dataTable['output_type'] = 'display_data';\n",
              "          await google.colab.output.renderOutput(dataTable, element);\n",
              "          const docLink = document.createElement('div');\n",
              "          docLink.innerHTML = docLinkHtml;\n",
              "          element.appendChild(docLink);\n",
              "        }\n",
              "      </script>\n",
              "    </div>\n",
              "  </div>\n",
              "  "
            ]
          },
          "metadata": {},
          "execution_count": 4
        }
      ]
    },
    {
      "cell_type": "code",
      "source": [
        "df.info()"
      ],
      "metadata": {
        "colab": {
          "base_uri": "https://localhost:8080/"
        },
        "id": "pjwKDlKpj97L",
        "outputId": "16bcd7b6-ec48-4e48-a9bc-6bb4b0c2565d"
      },
      "execution_count": 5,
      "outputs": [
        {
          "output_type": "stream",
          "name": "stdout",
          "text": [
            "<class 'pandas.core.frame.DataFrame'>\n",
            "RangeIndex: 25 entries, 0 to 24\n",
            "Data columns (total 2 columns):\n",
            " #   Column  Non-Null Count  Dtype  \n",
            "---  ------  --------------  -----  \n",
            " 0   Hours   25 non-null     float64\n",
            " 1   Scores  25 non-null     int64  \n",
            "dtypes: float64(1), int64(1)\n",
            "memory usage: 528.0 bytes\n"
          ]
        }
      ]
    },
    {
      "cell_type": "markdown",
      "source": [
        "**Checking if there are any null values**"
      ],
      "metadata": {
        "id": "rdZkcHtCErQF"
      }
    },
    {
      "cell_type": "code",
      "source": [
        "df.isnull == True"
      ],
      "metadata": {
        "colab": {
          "base_uri": "https://localhost:8080/"
        },
        "id": "IgTor30019tQ",
        "outputId": "ce919015-7ae6-4980-f116-56df52be7d9c"
      },
      "execution_count": 6,
      "outputs": [
        {
          "output_type": "execute_result",
          "data": {
            "text/plain": [
              "False"
            ]
          },
          "metadata": {},
          "execution_count": 6
        }
      ]
    },
    {
      "cell_type": "markdown",
      "source": [
        "**Plotting data for better visualization**"
      ],
      "metadata": {
        "id": "08FqYcF_Ezvt"
      }
    },
    {
      "cell_type": "code",
      "source": [
        "sns.set_style('ticks')\n",
        "sns.scatterplot(y=df['Hours'],x=df['Scores'])\n",
        "plt.title(\"Marks VS Study Hours\")\n",
        "plt.xlabel(\"Hours studied\")\n",
        "plt.ylabel(\"Marks Percentage\")\n",
        "plt.grid()\n",
        "plt.show()"
      ],
      "metadata": {
        "colab": {
          "base_uri": "https://localhost:8080/",
          "height": 295
        },
        "id": "Ae7bilfe2H9m",
        "outputId": "3a8ef7f7-5921-4cd5-f43d-10956ba2308a"
      },
      "execution_count": 7,
      "outputs": [
        {
          "output_type": "display_data",
          "data": {
            "text/plain": [
              "<Figure size 432x288 with 1 Axes>"
            ],
            "image/png": "[encoded data removed]"
          },
          "metadata": {}
        }
      ]
    },
    {
      "cell_type": "markdown",
      "source": [
        "**Finding Correlation**"
      ],
      "metadata": {
        "id": "4q57D1toFM_P"
      }
    },
    {
      "cell_type": "code",
      "source": [
        "#correlation\n",
        "df['Hours'].corr(df['Scores'])"
      ],
      "metadata": {
        "colab": {
          "base_uri": "https://localhost:8080/"
        },
        "id": "yZJ_EydG3_Wg",
        "outputId": "82ddc485-5b3f-4792-da44-45c3ee7b30c7"
      },
      "execution_count": 8,
      "outputs": [
        {
          "output_type": "execute_result",
          "data": {
            "text/plain": [
              "0.9761906560220887"
            ]
          },
          "metadata": {},
          "execution_count": 8
        }
      ]
    },
    {
      "cell_type": "markdown",
      "source": [
        "**Plotting Regression line**"
      ],
      "metadata": {
        "id": "mSCExPtfFEbU"
      }
    },
    {
      "cell_type": "code",
      "source": [
        "sns.set_style('whitegrid')\n",
        "sns.regplot(y=df['Hours'],x=df['Scores'])\n",
        "plt.title(\"Marks VS Study Hours\")\n",
        "plt.xlabel(\"Hours studied\")\n",
        "plt.ylabel(\"Marks Percentage\")\n",
        "plt.show()"
      ],
      "metadata": {
        "colab": {
          "base_uri": "https://localhost:8080/",
          "height": 295
        },
        "id": "iA0QSNaL67Ps",
        "outputId": "3cc28501-26ca-4a7c-f1da-a606d2f58754"
      },
      "execution_count": 9,
      "outputs": [
        {
          "output_type": "display_data",
          "data": {
            "text/plain": [
              "<Figure size 432x288 with 1 Axes>"
            ],
            "image/png": "[encoded data removed]"
          },
          "metadata": {}
        }
      ]
    },
    {
      "cell_type": "markdown",
      "source": [
        "**Here we can see that there is linear relationship between two variables**"
      ],
      "metadata": {
        "id": "OXa8MYKR0nsk"
      }
    },
    {
      "cell_type": "markdown",
      "source": [
        "**Applying Linear Regression**"
      ],
      "metadata": {
        "id": "qxSggkBuFUks"
      }
    },
    {
      "cell_type": "code",
      "source": [
        "from sklearn.linear_model import LinearRegression"
      ],
      "metadata": {
        "id": "Ff7CNlM0gq2-"
      },
      "execution_count": 10,
      "outputs": []
    },
    {
      "cell_type": "code",
      "source": [
        "from sklearn.model_selection import train_test_split"
      ],
      "metadata": {
        "id": "xYWkWyrgMRKj"
      },
      "execution_count": 11,
      "outputs": []
    },
    {
      "cell_type": "markdown",
      "source": [
        "**Step 4:Training the Model**"
      ],
      "metadata": {
        "id": "lc6oblqzFeY3"
      }
    },
    {
      "cell_type": "code",
      "source": [
        "x = df.iloc[:,:-1].values\n",
        "y = df.iloc[:,1].values\n",
        "x_train, x_test, y_train, y_test = train_test_split(x, y, random_state=0) "
      ],
      "metadata": {
        "id": "R94W3QH-MRPX"
      },
      "execution_count": 12,
      "outputs": []
    },
    {
      "cell_type": "code",
      "source": [
        "model = LinearRegression()"
      ],
      "metadata": {
        "id": "SfkmBioe5Hs5"
      },
      "execution_count": 13,
      "outputs": []
    },
    {
      "cell_type": "code",
      "source": [
        "model.fit(x,y)\n",
        "print(\"***Model Trained***\")"
      ],
      "metadata": {
        "colab": {
          "base_uri": "https://localhost:8080/"
        },
        "id": "TOaxLzIc5SOv",
        "outputId": "861b1a02-3e96-4caa-93f0-77e715e9b95e"
      },
      "execution_count": 14,
      "outputs": [
        {
          "output_type": "stream",
          "name": "stdout",
          "text": [
            "***Model Trained***\n"
          ]
        }
      ]
    },
    {
      "cell_type": "markdown",
      "source": [
        "**Step 5:Predicting Values**"
      ],
      "metadata": {
        "id": "YsdNXF1txDYl"
      }
    },
    {
      "cell_type": "code",
      "source": [
        "test = 10\n",
        "test = np.array(test).reshape(-1,1)"
      ],
      "metadata": {
        "id": "8_KVFL2C5dqn"
      },
      "execution_count": 15,
      "outputs": []
    },
    {
      "cell_type": "code",
      "source": [
        "from IPython.utils.syspathcontext import prepended_to_syspath\n",
        "pred_y = model.predict(x_test)\n",
        "prediction = pd.DataFrame({'Hours':[i[0] for i in x_test],'Predicted Marks':[k for k in pred_y]})\n",
        "print('predicted values ')\n",
        "prediction"
      ],
      "metadata": {
        "colab": {
          "base_uri": "https://localhost:8080/",
          "height": 286
        },
        "id": "DGRQIqMt5y7Y",
        "outputId": "0b61bc25-55ac-455d-f890-c18dcc39681d"
      },
      "execution_count": 16,
      "outputs": [
        {
          "output_type": "stream",
          "name": "stdout",
          "text": [
            "predicted values \n"
          ]
        },
        {
          "output_type": "execute_result",
          "data": {
            "text/plain": [
              "   Hours  Predicted Marks\n",
              "0    1.5        17.147378\n",
              "1    3.2        33.766244\n",
              "2    7.4        74.824618\n",
              "3    2.5        26.923182\n",
              "4    5.9        60.160913\n",
              "5    3.8        39.631726\n",
              "6    1.9        21.057700"
            ],
            "text/html": [
              "\n",
              "  <div id=\"df-1aaf4a5e-6911-49b2-8d91-43fcedc28001\">\n",
              "    <div class=\"colab-df-container\">\n",
              "      <div>\n",
              "<style scoped>\n",
              "    .dataframe tbody tr th:only-of-type {\n",
              "        vertical-align: middle;\n",
              "    }\n",
              "\n",
              "    .dataframe tbody tr th {\n",
              "        vertical-align: top;\n",
              "    }\n",
              "\n",
              "    .dataframe thead th {\n",
              "        text-align: right;\n",
              "    }\n",
              "</style>\n",
              "<table border=\"1\" class=\"dataframe\">\n",
              "  <thead>\n",
              "    <tr style=\"text-align: right;\">\n",
              "      <th></th>\n",
              "      <th>Hours</th>\n",
              "      <th>Predicted Marks</th>\n",
              "    </tr>\n",
              "  </thead>\n",
              "  <tbody>\n",
              "    <tr>\n",
              "      <th>0</th>\n",
              "      <td>1.5</td>\n",
              "      <td>17.147378</td>\n",
              "    </tr>\n",
              "    <tr>\n",
              "      <th>1</th>\n",
              "      <td>3.2</td>\n",
              "      <td>33.766244</td>\n",
              "    </tr>\n",
              "    <tr>\n",
              "      <th>2</th>\n",
              "      <td>7.4</td>\n",
              "      <td>74.824618</td>\n",
              "    </tr>\n",
              "    <tr>\n",
              "      <th>3</th>\n",
              "      <td>2.5</td>\n",
              "      <td>26.923182</td>\n",
              "    </tr>\n",
              "    <tr>\n",
              "      <th>4</th>\n",
              "      <td>5.9</td>\n",
              "      <td>60.160913</td>\n",
              "    </tr>\n",
              "    <tr>\n",
              "      <th>5</th>\n",
              "      <td>3.8</td>\n",
              "      <td>39.631726</td>\n",
              "    </tr>\n",
              "    <tr>\n",
              "      <th>6</th>\n",
              "      <td>1.9</td>\n",
              "      <td>21.057700</td>\n",
              "    </tr>\n",
              "  </tbody>\n",
              "</table>\n",
              "</div>\n",
              "      <button class=\"colab-df-convert\" onclick=\"convertToInteractive('df-1aaf4a5e-6911-49b2-8d91-43fcedc28001')\"\n",
              "              title=\"Convert this dataframe to an interactive table.\"\n",
              "              style=\"display:none;\">\n",
              "        \n",
              "  <svg xmlns=\"http://www.w3.org/2000/svg\" height=\"24px\"viewBox=\"0 0 24 24\"\n",
              "       width=\"24px\">\n",
              "    <path d=\"M0 0h24v24H0V0z\" fill=\"none\"/>\n",
              "    <path d=\"M18.56 5.44l.94 2.06.94-2.06 2.06-.94-2.06-.94-.94-2.06-.94 2.06-2.06.94zm-11 1L8.5 8.5l.94-2.06 2.06-.94-2.06-.94L8.5 2.5l-.94 2.06-2.06.94zm10 10l.94 2.06.94-2.06 2.06-.94-2.06-.94-.94-2.06-.94 2.06-2.06.94z\"/><path d=\"M17.41 7.96l-1.37-1.37c-.4-.4-.92-.59-1.43-.59-.52 0-1.04.2-1.43.59L10.3 9.45l-7.72 7.72c-.78.78-.78 2.05 0 2.83L4 21.41c.39.39.9.59 1.41.59.51 0 1.02-.2 1.41-.59l7.78-7.78 2.81-2.81c.8-.78.8-2.07 0-2.86zM5.41 20L4 18.59l7.72-7.72 1.47 1.35L5.41 20z\"/>\n",
              "  </svg>\n",
              "      </button>\n",
              "      \n",
              "  <style>\n",
              "    .colab-df-container {\n",
              "      display:flex;\n",
              "      flex-wrap:wrap;\n",
              "      gap: 12px;\n",
              "    }\n",
              "\n",
              "    .colab-df-convert {\n",
              "      background-color: #E8F0FE;\n",
              "      border: none;\n",
              "      border-radius: 50%;\n",
              "      cursor: pointer;\n",
              "      display: none;\n",
              "      fill: #1967D2;\n",
              "      height: 32px;\n",
              "      padding: 0 0 0 0;\n",
              "      width: 32px;\n",
              "    }\n",
              "\n",
              "    .colab-df-convert:hover {\n",
              "      background-color: #E2EBFA;\n",
              "      box-shadow: 0px 1px 2px rgba(60, 64, 67, 0.3), 0px 1px 3px 1px rgba(60, 64, 67, 0.15);\n",
              "      fill: #174EA6;\n",
              "    }\n",
              "\n",
              "    [theme=dark] .colab-df-convert {\n",
              "      background-color: #3B4455;\n",
              "      fill: #D2E3FC;\n",
              "    }\n",
              "\n",
              "    [theme=dark] .colab-df-convert:hover {\n",
              "      background-color: #434B5C;\n",
              "      box-shadow: 0px 1px 3px 1px rgba(0, 0, 0, 0.15);\n",
              "      filter: drop-shadow(0px 1px 2px rgba(0, 0, 0, 0.3));\n",
              "      fill: #FFFFFF;\n",
              "    }\n",
              "  </style>\n",
              "\n",
              "      <script>\n",
              "        const buttonEl =\n",
              "          document.querySelector('#df-1aaf4a5e-6911-49b2-8d91-43fcedc28001 button.colab-df-convert');\n",
              "        buttonEl.style.display =\n",
              "          google.colab.kernel.accessAllowed ? 'block' : 'none';\n",
              "\n",
              "        async function convertToInteractive(key) {\n",
              "          const element = document.querySelector('#df-1aaf4a5e-6911-49b2-8d91-43fcedc28001');\n",
              "          const dataTable =\n",
              "            await google.colab.kernel.invokeFunction('convertToInteractive',\n",
              "                                                     [key], {});\n",
              "          if (!dataTable) return;\n",
              "\n",
              "          const docLinkHtml = 'Like what you see? Visit the ' +\n",
              "            '<a target=\"_blank\" href=https://colab.research.google.com/notebooks/data_table.ipynb>data table notebook</a>'\n",
              "            + ' to learn more about interactive tables.';\n",
              "          element.innerHTML = '';\n",
              "          dataTable['output_type'] = 'display_data';\n",
              "          await google.colab.output.renderOutput(dataTable, element);\n",
              "          const docLink = document.createElement('div');\n",
              "          docLink.innerHTML = docLinkHtml;\n",
              "          element.appendChild(docLink);\n",
              "        }\n",
              "      </script>\n",
              "    </div>\n",
              "  </div>\n",
              "  "
            ]
          },
          "metadata": {},
          "execution_count": 16
        }
      ]
    },
    {
      "cell_type": "code",
      "source": [
        "compare_scores = pd.DataFrame({'Actual marks':y_test,\"Predicted marks\":pred_y})\n",
        "compare_scores"
      ],
      "metadata": {
        "colab": {
          "base_uri": "https://localhost:8080/",
          "height": 269
        },
        "id": "d1RHiFBw53Xx",
        "outputId": "7b6ddcbd-114a-4fbd-b0ca-00fa76eb5943"
      },
      "execution_count": 17,
      "outputs": [
        {
          "output_type": "execute_result",
          "data": {
            "text/plain": [
              "   Actual marks  Predicted marks\n",
              "0            20        17.147378\n",
              "1            27        33.766244\n",
              "2            69        74.824618\n",
              "3            30        26.923182\n",
              "4            62        60.160913\n",
              "5            35        39.631726\n",
              "6            24        21.057700"
            ],
            "text/html": [
              "\n",
              "  <div id=\"df-c0b04f05-dd06-4e37-bc28-097b7b568191\">\n",
              "    <div class=\"colab-df-container\">\n",
              "      <div>\n",
              "<style scoped>\n",
              "    .dataframe tbody tr th:only-of-type {\n",
              "        vertical-align: middle;\n",
              "    }\n",
              "\n",
              "    .dataframe tbody tr th {\n",
              "        vertical-align: top;\n",
              "    }\n",
              "\n",
              "    .dataframe thead th {\n",
              "        text-align: right;\n",
              "    }\n",
              "</style>\n",
              "<table border=\"1\" class=\"dataframe\">\n",
              "  <thead>\n",
              "    <tr style=\"text-align: right;\">\n",
              "      <th></th>\n",
              "      <th>Actual marks</th>\n",
              "      <th>Predicted marks</th>\n",
              "    </tr>\n",
              "  </thead>\n",
              "  <tbody>\n",
              "    <tr>\n",
              "      <th>0</th>\n",
              "      <td>20</td>\n",
              "      <td>17.147378</td>\n",
              "    </tr>\n",
              "    <tr>\n",
              "      <th>1</th>\n",
              "      <td>27</td>\n",
              "      <td>33.766244</td>\n",
              "    </tr>\n",
              "    <tr>\n",
              "      <th>2</th>\n",
              "      <td>69</td>\n",
              "      <td>74.824618</td>\n",
              "    </tr>\n",
              "    <tr>\n",
              "      <th>3</th>\n",
              "      <td>30</td>\n",
              "      <td>26.923182</td>\n",
              "    </tr>\n",
              "    <tr>\n",
              "      <th>4</th>\n",
              "      <td>62</td>\n",
              "      <td>60.160913</td>\n",
              "    </tr>\n",
              "    <tr>\n",
              "      <th>5</th>\n",
              "      <td>35</td>\n",
              "      <td>39.631726</td>\n",
              "    </tr>\n",
              "    <tr>\n",
              "      <th>6</th>\n",
              "      <td>24</td>\n",
              "      <td>21.057700</td>\n",
              "    </tr>\n",
              "  </tbody>\n",
              "</table>\n",
              "</div>\n",
              "      <button class=\"colab-df-convert\" onclick=\"convertToInteractive('df-c0b04f05-dd06-4e37-bc28-097b7b568191')\"\n",
              "              title=\"Convert this dataframe to an interactive table.\"\n",
              "              style=\"display:none;\">\n",
              "        \n",
              "  <svg xmlns=\"http://www.w3.org/2000/svg\" height=\"24px\"viewBox=\"0 0 24 24\"\n",
              "       width=\"24px\">\n",
              "    <path d=\"M0 0h24v24H0V0z\" fill=\"none\"/>\n",
              "    <path d=\"M18.56 5.44l.94 2.06.94-2.06 2.06-.94-2.06-.94-.94-2.06-.94 2.06-2.06.94zm-11 1L8.5 8.5l.94-2.06 2.06-.94-2.06-.94L8.5 2.5l-.94 2.06-2.06.94zm10 10l.94 2.06.94-2.06 2.06-.94-2.06-.94-.94-2.06-.94 2.06-2.06.94z\"/><path d=\"M17.41 7.96l-1.37-1.37c-.4-.4-.92-.59-1.43-.59-.52 0-1.04.2-1.43.59L10.3 9.45l-7.72 7.72c-.78.78-.78 2.05 0 2.83L4 21.41c.39.39.9.59 1.41.59.51 0 1.02-.2 1.41-.59l7.78-7.78 2.81-2.81c.8-.78.8-2.07 0-2.86zM5.41 20L4 18.59l7.72-7.72 1.47 1.35L5.41 20z\"/>\n",
              "  </svg>\n",
              "      </button>\n",
              "      \n",
              "  <style>\n",
              "    .colab-df-container {\n",
              "      display:flex;\n",
              "      flex-wrap:wrap;\n",
              "      gap: 12px;\n",
              "    }\n",
              "\n",
              "    .colab-df-convert {\n",
              "      background-color: #E8F0FE;\n",
              "      border: none;\n",
              "      border-radius: 50%;\n",
              "      cursor: pointer;\n",
              "      display: none;\n",
              "      fill: #1967D2;\n",
              "      height: 32px;\n",
              "      padding: 0 0 0 0;\n",
              "      width: 32px;\n",
              "    }\n",
              "\n",
              "    .colab-df-convert:hover {\n",
              "      background-color: #E2EBFA;\n",
              "      box-shadow: 0px 1px 2px rgba(60, 64, 67, 0.3), 0px 1px 3px 1px rgba(60, 64, 67, 0.15);\n",
              "      fill: #174EA6;\n",
              "    }\n",
              "\n",
              "    [theme=dark] .colab-df-convert {\n",
              "      background-color: #3B4455;\n",
              "      fill: #D2E3FC;\n",
              "    }\n",
              "\n",
              "    [theme=dark] .colab-df-convert:hover {\n",
              "      background-color: #434B5C;\n",
              "      box-shadow: 0px 1px 3px 1px rgba(0, 0, 0, 0.15);\n",
              "      filter: drop-shadow(0px 1px 2px rgba(0, 0, 0, 0.3));\n",
              "      fill: #FFFFFF;\n",
              "    }\n",
              "  </style>\n",
              "\n",
              "      <script>\n",
              "        const buttonEl =\n",
              "          document.querySelector('#df-c0b04f05-dd06-4e37-bc28-097b7b568191 button.colab-df-convert');\n",
              "        buttonEl.style.display =\n",
              "          google.colab.kernel.accessAllowed ? 'block' : 'none';\n",
              "\n",
              "        async function convertToInteractive(key) {\n",
              "          const element = document.querySelector('#df-c0b04f05-dd06-4e37-bc28-097b7b568191');\n",
              "          const dataTable =\n",
              "            await google.colab.kernel.invokeFunction('convertToInteractive',\n",
              "                                                     [key], {});\n",
              "          if (!dataTable) return;\n",
              "\n",
              "          const docLinkHtml = 'Like what you see? Visit the ' +\n",
              "            '<a target=\"_blank\" href=https://colab.research.google.com/notebooks/data_table.ipynb>data table notebook</a>'\n",
              "            + ' to learn more about interactive tables.';\n",
              "          element.innerHTML = '';\n",
              "          dataTable['output_type'] = 'display_data';\n",
              "          await google.colab.output.renderOutput(dataTable, element);\n",
              "          const docLink = document.createElement('div');\n",
              "          docLink.innerHTML = docLinkHtml;\n",
              "          element.appendChild(docLink);\n",
              "        }\n",
              "      </script>\n",
              "    </div>\n",
              "  </div>\n",
              "  "
            ]
          },
          "metadata": {},
          "execution_count": 17
        }
      ]
    },
    {
      "cell_type": "markdown",
      "source": [
        "**Measuring the distance of the predicted values and observed values.**"
      ],
      "metadata": {
        "id": "clgHHKJhxBFO"
      }
    },
    {
      "cell_type": "code",
      "source": [
        "from sklearn.metrics import mean_absolute_error"
      ],
      "metadata": {
        "id": "wL2ZmVruMRgS"
      },
      "execution_count": 18,
      "outputs": []
    },
    {
      "cell_type": "code",
      "source": [
        "print('mean absolute error',mean_absolute_error(y_test,pred_y))"
      ],
      "metadata": {
        "colab": {
          "base_uri": "https://localhost:8080/"
        },
        "id": "ko23mTEJMRlD",
        "outputId": "156ab6f6-9eba-49bd-c806-66c669d4084d"
      },
      "execution_count": 19,
      "outputs": [
        {
          "output_type": "stream",
          "name": "stdout",
          "text": [
            "mean absolute error 3.9904879158106015\n"
          ]
        }
      ]
    },
    {
      "cell_type": "markdown",
      "source": [
        "**The smaller the Mean Squared Error,the closer you are to finding the line of best fit**"
      ],
      "metadata": {
        "id": "9OpaXFs_x3Qk"
      }
    },
    {
      "cell_type": "code",
      "source": [
        "plt.scatter(x=x_test, y=y_test, color='blue')\n",
        "plt.plot( x_test, pred_y, color='green')\n",
        "plt.title(\"Actual VS Obtained\")\n",
        "plt.xlabel(\"Actual\")\n",
        "plt.ylabel(\"Marks Percentage\")\n",
        "plt.show()"
      ],
      "metadata": {
        "colab": {
          "base_uri": "https://localhost:8080/",
          "height": 295
        },
        "id": "2_AghJ_RMRbF",
        "outputId": "d67337c8-7ee5-43d9-aa01-5faf3aa73e00"
      },
      "execution_count": 20,
      "outputs": [
        {
          "output_type": "display_data",
          "data": {
            "text/plain": [
              "<Figure size 432x288 with 1 Axes>"
            ],
            "image/png": "[encoded data removed]"
          },
          "metadata": {}
        }
      ]
    },
    {
      "cell_type": "code",
      "source": [
        "hours = [9.25]\n",
        "ans = model.predict([hours])\n",
        "print(\"score ={}\".format(round(ans[0],3)))"
      ],
      "metadata": {
        "colab": {
          "base_uri": "https://localhost:8080/"
        },
        "id": "7PwMZ-YLMRqk",
        "outputId": "4d646c4a-5c17-44ec-e41d-0cfcf1d8f06e"
      },
      "execution_count": 21,
      "outputs": [
        {
          "output_type": "stream",
          "name": "stdout",
          "text": [
            "score =92.91\n"
          ]
        }
      ]
    },
    {
      "cell_type": "markdown",
      "source": [
        "**If a student studies for 9.25 hrs/ day he/she will get score 92.91.**"
      ],
      "metadata": {
        "id": "S_kY-b-5BLCX"
      }
    },
    {
      "cell_type": "code",
      "source": [],
      "metadata": {
        "id": "t5rIg5lnMRvf"
      },
      "execution_count": null,
      "outputs": []
    },
    {
      "cell_type": "code",
      "source": [],
      "metadata": {
        "id": "cQgAq4o3MR0e"
      },
      "execution_count": null,
      "outputs": []
    },
    {
      "cell_type": "code",
      "source": [],
      "metadata": {
        "id": "YGYrQeXXMR5j"
      },
      "execution_count": null,
      "outputs": []
    },
    {
      "cell_type": "code",
      "source": [],
      "metadata": {
        "id": "r2eKBWO4MR-N"
      },
      "execution_count": null,
      "outputs": []
    },
    {
      "cell_type": "code",
      "source": [],
      "metadata": {
        "id": "Bl8wdoX-MSDh"
      },
      "execution_count": null,
      "outputs": []
    },
    {
      "cell_type": "code",
      "source": [],
      "metadata": {
        "id": "uddq8errMSJe"
      },
      "execution_count": null,
      "outputs": []
    },
    {
      "cell_type": "code",
      "source": [],
      "metadata": {
        "id": "6Vjbw0tGMSOc"
      },
      "execution_count": null,
      "outputs": []
    },
    {
      "cell_type": "code",
      "source": [],
      "metadata": {
        "id": "7jiHWFCnMSTX"
      },
      "execution_count": null,
      "outputs": []
    },
    {
      "cell_type": "code",
      "source": [],
      "metadata": {
        "id": "CFVuUAB9MSaF"
      },
      "execution_count": null,
      "outputs": []
    },
    {
      "cell_type": "code",
      "source": [],
      "metadata": {
        "id": "xEJme5_2MSgG"
      },
      "execution_count": null,
      "outputs": []
    },
    {
      "cell_type": "code",
      "source": [],
      "metadata": {
        "id": "j39SKvdyMSl5"
      },
      "execution_count": null,
      "outputs": []
    },
    {
      "cell_type": "code",
      "source": [],
      "metadata": {
        "id": "Bq_GpPPjMSrk"
      },
      "execution_count": null,
      "outputs": []
    },
    {
      "cell_type": "code",
      "source": [],
      "metadata": {
        "id": "GvLvF_kOMSyE"
      },
      "execution_count": null,
      "outputs": []
    },
    {
      "cell_type": "code",
      "source": [],
      "metadata": {
        "id": "nGAnBFYbMS4L"
      },
      "execution_count": null,
      "outputs": []
    },
    {
      "cell_type": "code",
      "source": [],
      "metadata": {
        "id": "cw-R84gEMS9w"
      },
      "execution_count": null,
      "outputs": []
    },
    {
      "cell_type": "code",
      "source": [],
      "metadata": {
        "id": "oHYmT49fMTDo"
      },
      "execution_count": null,
      "outputs": []
    },
    {
      "cell_type": "code",
      "source": [],
      "metadata": {
        "id": "GOUItKBCMTJO"
      },
      "execution_count": null,
      "outputs": []
    },
    {
      "cell_type": "code",
      "source": [],
      "metadata": {
        "id": "uXYMOZasMTO_"
      },
      "execution_count": null,
      "outputs": []
    },
    {
      "cell_type": "code",
      "source": [],
      "metadata": {
        "id": "JTYX2XyZMTU4"
      },
      "execution_count": null,
      "outputs": []
    },
    {
      "cell_type": "code",
      "source": [],
      "metadata": {
        "id": "yNeEqlj3MTar"
      },
      "execution_count": null,
      "outputs": []
    },
    {
      "cell_type": "code",
      "source": [],
      "metadata": {
        "id": "Fm2TfyWwMTgV"
      },
      "execution_count": null,
      "outputs": []
    },
    {
      "cell_type": "code",
      "source": [],
      "metadata": {
        "id": "P2F2e4roMTkt"
      },
      "execution_count": null,
      "outputs": []
    }
  ]
}